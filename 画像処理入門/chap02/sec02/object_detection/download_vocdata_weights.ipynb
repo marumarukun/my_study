{
 "cells": [
  {
   "cell_type": "code",
   "execution_count": 2,
   "metadata": {},
   "outputs": [],
   "source": [
    "'''\n",
    "1. データセット用フォルダー「data」と\n",
    "   学習済みの重み用フォルダー「weight」の作成\n",
    "'''\n",
    "import os\n",
    "\n",
    "# 「data」フォルダーを作成\n",
    "data_dir = \"./data/\"\n",
    "if not os.path.exists(data_dir):\n",
    "    os.mkdir(data_dir)\n",
    "\n",
    "# 「weights」フォルダーを作成\n",
    "weights_dir = \"./weights/\"\n",
    "if not os.path.exists(weights_dir):\n",
    "    os.mkdir(weights_dir)"
   ]
  },
  {
   "cell_type": "code",
   "execution_count": 4,
   "metadata": {},
   "outputs": [
    {
     "name": "stdout",
     "output_type": "stream",
     "text": [
      "Wall time: 48min 25s\n"
     ]
    }
   ],
   "source": [
    "%%time\n",
    "'''\n",
    "2. VOC2012のデータセットを\n",
    "   Visual Object Classes Challenge 2012のサイトからダウンロード\n",
    "'''\n",
    "import urllib.request\n",
    "import tarfile\n",
    "\n",
    "# VOCデータセットのダウンロード先のURL\n",
    "url = \"http://host.robots.ox.ac.uk/pascal/VOC/voc2012/VOCtrainval_11-May-2012.tar\"\n",
    "# data_dirにファイル名を連結してファイルパスを作成\n",
    "target_path = os.path.join(data_dir, \"VOCtrainval_11-May-2012.tar\") \n",
    "\n",
    "if not os.path.exists(target_path):\n",
    "    # urlにアクセスしてファイルパスtarget_pathとしてダウンロード\n",
    "    urllib.request.urlretrieve(url, target_path)\n",
    "    # ダウンロードしたtar形式ファイルを読み込む\n",
    "    tar = tarfile.TarFile(target_path)\n",
    "    tar.extractall(data_dir)  # tarファイルを解凍\n",
    "    tar.close()               # tarファイルをクローズ\n",
    "    "
   ]
  },
  {
   "cell_type": "code",
   "execution_count": 5,
   "metadata": {},
   "outputs": [
    {
     "name": "stdout",
     "output_type": "stream",
     "text": [
      "Wall time: 3min 16s\n"
     ]
    }
   ],
   "source": [
    "%%time\n",
    "'''\n",
    "3. SSDで使用するVGG16の学習済みの重みを\n",
    "  「weights」フォルダーにダウンロード\n",
    "'''\n",
    "# VGG16の学習済み重みのダウンロード先\n",
    "url = \"https://s3.amazonaws.com/amdegroot-models/vgg16_reducedfc.pth\"\n",
    "# weights_dirにファイル名を連結してファイルパスを作成\n",
    "target_path = os.path.join(weights_dir, \"vgg16_reducedfc.pth\") \n",
    "\n",
    "if not os.path.exists(target_path):\n",
    "    # urlにアクセスしてファイルパスtarget_pathとしてダウンロード\n",
    "    urllib.request.urlretrieve(url, target_path)"
   ]
  },
  {
   "cell_type": "code",
   "execution_count": 6,
   "metadata": {},
   "outputs": [
    {
     "name": "stdout",
     "output_type": "stream",
     "text": [
      "Wall time: 8min 11s\n"
     ]
    }
   ],
   "source": [
    "%%time\n",
    "'''\n",
    "4. SSD300の学習済みの重みを\n",
    "  「weights」フォルダーにダウンロード\n",
    "'''\n",
    "# SSD300の学習済み重みのダウンロード先\n",
    "url = \"https://s3.amazonaws.com/amdegroot-models/ssd300_mAP_77.43_v2.pth\"\n",
    "# weights_dirにファイル名を連結してファイルパスを作成\n",
    "target_path = os.path.join(weights_dir, \"ssd300_mAP_77.43_v2.pth\") \n",
    "\n",
    "if not os.path.exists(target_path):\n",
    "    # urlにアクセスしてファイルパスtarget_pathとしてダウンロード\n",
    "    urllib.request.urlretrieve(url, target_path)"
   ]
  }
 ],
 "metadata": {
  "kernelspec": {
   "display_name": "Python 3",
   "language": "python",
   "name": "python3"
  },
  "language_info": {
   "codemirror_mode": {
    "name": "ipython",
    "version": 3
   },
   "file_extension": ".py",
   "mimetype": "text/x-python",
   "name": "python",
   "nbconvert_exporter": "python",
   "pygments_lexer": "ipython3",
   "version": "3.8.8"
  }
 },
 "nbformat": 4,
 "nbformat_minor": 2
}
